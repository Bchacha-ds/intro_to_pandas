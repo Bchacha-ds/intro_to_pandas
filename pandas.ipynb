{
 "cells": [
  {
   "cell_type": "markdown",
   "id": "3936ccf8",
   "metadata": {},
   "source": [
    "### Data Analysis in Pandas\n",
    "The `Pandas` library will be your most-used library over the course of the program. \n",
    "\n",
    "Its a flexible, powerful data analysis library with an active community that is used to handle tabular data.(**Data with columns and rows**)\n",
    "\n",
    "\n",
    "#### DataFrame and Series\n",
    "There are two datatypes that come with this library `DataFrame` and `Series`.\n",
    "\n",
    "A `Series` is a **one-dimensional** labeled array, while a `DataFrame` is a **two-dimensional** table made up of multiple *Series* sharing the same index.\n"
   ]
  },
  {
   "cell_type": "code",
   "execution_count": null,
   "id": "2c32fd5b",
   "metadata": {},
   "outputs": [],
   "source": [
    "import pandas as pd\n",
    "\n",
    "#pandas series\n",
    "s = pd.Series([10, 20, 30], index=['a', 'b', 'c'])\n",
    "print(\"Series:\\n\", s)\n",
    "\n",
    "#pandas dataFrame\n",
    "df = pd.DataFrame({'A': [10, 20, 30], 'B': [1, 2, 3]})\n",
    "print(\"\\nDataFrame:\\n\", df)\n",
    "\n",
    "\n",
    "s_d = pd.DataFrame([10, 20, 30], index=['a', 'b', 'c'])"
   ]
  },
  {
   "cell_type": "code",
   "execution_count": null,
   "id": "a117f90c",
   "metadata": {},
   "outputs": [],
   "source": [
    "s_d"
   ]
  },
  {
   "cell_type": "code",
   "execution_count": null,
   "id": "2580bf19",
   "metadata": {},
   "outputs": [],
   "source": [
    "s"
   ]
  },
  {
   "cell_type": "code",
   "execution_count": null,
   "id": "ebbc9196",
   "metadata": {},
   "outputs": [],
   "source": [
    "print(s.shape, s_d.shape)"
   ]
  },
  {
   "cell_type": "code",
   "execution_count": null,
   "id": "b0db6378",
   "metadata": {},
   "outputs": [],
   "source": [
    "df.shape"
   ]
  },
  {
   "cell_type": "code",
   "execution_count": null,
   "id": "ab513bf9",
   "metadata": {},
   "outputs": [],
   "source": [
    "df"
   ]
  },
  {
   "cell_type": "code",
   "execution_count": null,
   "id": "db5d42f8",
   "metadata": {},
   "outputs": [],
   "source": [
    "s_d.shape"
   ]
  },
  {
   "cell_type": "markdown",
   "id": "97a5eb03",
   "metadata": {},
   "source": [
    "Comparing **csv.Dictreader** to **pandas.Dataframe**"
   ]
  },
  {
   "cell_type": "code",
   "execution_count": null,
   "id": "3fdda3bf",
   "metadata": {},
   "outputs": [],
   "source": [
    "import csv\n",
    "\n",
    "with open('./data/ames_housing.csv', 'r') as f:\n",
    "    reader = csv.DictReader(f)\n",
    "    data = list(reader)\n",
    "\n",
    "data"
   ]
  },
  {
   "cell_type": "code",
   "execution_count": null,
   "id": "7665b58c",
   "metadata": {},
   "outputs": [],
   "source": [
    "for x in data:\n",
    "    print(x.keys())"
   ]
  },
  {
   "cell_type": "code",
   "execution_count": null,
   "id": "683fc7ac",
   "metadata": {},
   "outputs": [],
   "source": [
    "for _ in data:\n",
    "    print(_['LotArea'])"
   ]
  },
  {
   "cell_type": "markdown",
   "id": "3916abf9",
   "metadata": {},
   "source": [
    "From the syntax above, we can clearly see that its a hustle reading csv files using the built-in **csv** module. \n",
    "\n",
    "Data scientist before us, saw this problem and thus **Pandas** was born."
   ]
  },
  {
   "cell_type": "code",
   "execution_count": null,
   "id": "1ce0a143",
   "metadata": {},
   "outputs": [],
   "source": [
    "import pandas as pd\n",
    "\n",
    "\n",
    "df = pd.read_csv('file_path')\n",
    "\n",
    "#get access to all the cool dataframe methods"
   ]
  },
  {
   "cell_type": "markdown",
   "id": "4d237cc3",
   "metadata": {},
   "source": [
    "### Features of Pandas\n",
    "* Loading specific rows/skipping rows\n",
    "* Delimiters (**\\t** for tab separated)\n",
    "* High performance **merging and joining** of data sets.\n",
    "* **Time-Series** functionality\n",
    "* Flexible **reshaping and pivoting** of datasets\n",
    "* Automatice label-based alignment in computations.(*Easily manipulate messy data into orderly form*)\n",
    "\n",
    "\n",
    "### Indexing Data with Pandas\n",
    "Common methods and attributes to access information about a dataset. (**shape, columns, head, tail and info**)\n",
    "\n",
    "Next we'll look at how to use **.loc(), .iloc() and column names**"
   ]
  },
  {
   "cell_type": "code",
   "execution_count": null,
   "id": "9b79a092",
   "metadata": {},
   "outputs": [],
   "source": []
  },
  {
   "cell_type": "markdown",
   "id": "87e5acb3",
   "metadata": {},
   "source": [
    "The difference between **loc(), iloc()** when using pandas."
   ]
  },
  {
   "cell_type": "code",
   "execution_count": null,
   "id": "59c03a55",
   "metadata": {},
   "outputs": [],
   "source": []
  },
  {
   "cell_type": "markdown",
   "id": "89fccceb",
   "metadata": {},
   "source": [
    "* `loc[]` → Access data by label (the names of rows and columns).\n",
    "\n",
    "* `iloc[]` → Access data by integer position (the numerical index of rows and columns)."
   ]
  },
  {
   "cell_type": "code",
   "execution_count": null,
   "id": "e7ac8bb2",
   "metadata": {},
   "outputs": [],
   "source": []
  },
  {
   "cell_type": "markdown",
   "id": "a9472c91",
   "metadata": {},
   "source": [
    "## Other Useful Functionalities in Pandas\n",
    "* Dropping rows\n",
    "* Dropping columns\n",
    "* Different encodings(especially *strings*, common is **utf-8** sometimes you might find **latin-1**.)\n",
    "* Selecting specific columns\n",
    "* Loading excel and displaying all the sheet names \n",
    "* Selecting specific sheets on Excel files\n",
    "* Saving DataFrames to **csv or excel** files."
   ]
  },
  {
   "cell_type": "markdown",
   "id": "f5250ecc",
   "metadata": {},
   "source": [
    "### Coming Next\n",
    "* Statistical methods in Pandas\n",
    "* Data Visualization in Pandas x Matplotlib x Seaborn"
   ]
  },
  {
   "cell_type": "code",
   "execution_count": null,
   "id": "49945b05",
   "metadata": {},
   "outputs": [],
   "source": []
  },
  {
   "cell_type": "code",
   "execution_count": null,
   "id": "7cd16d89",
   "metadata": {},
   "outputs": [],
   "source": []
  },
  {
   "cell_type": "markdown",
   "id": "ce55715f",
   "metadata": {},
   "source": [
    "#"
   ]
  }
 ],
 "metadata": {
  "kernelspec": {
   "display_name": "xBase",
   "language": "python",
   "name": "python3"
  },
  "language_info": {
   "codemirror_mode": {
    "name": "ipython",
    "version": 3
   },
   "file_extension": ".py",
   "mimetype": "text/x-python",
   "name": "python",
   "nbconvert_exporter": "python",
   "pygments_lexer": "ipython3",
   "version": "3.12.3"
  }
 },
 "nbformat": 4,
 "nbformat_minor": 5
}
